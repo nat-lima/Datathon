{
 "cells": [
  {
   "cell_type": "code",
   "execution_count": 1,
   "id": "4f45b9d5",
   "metadata": {},
   "outputs": [
    {
     "name": "stderr",
     "output_type": "stream",
     "text": [
      "d:\\0Viviana\\1 FIAP\\5 fase\\datathon\\venv312\\Lib\\site-packages\\tqdm\\auto.py:21: TqdmWarning: IProgress not found. Please update jupyter and ipywidgets. See https://ipywidgets.readthedocs.io/en/stable/user_install.html\n",
      "  from .autonotebook import tqdm as notebook_tqdm\n"
     ]
    },
    {
     "ename": "ImportError",
     "evalue": "Numba needs NumPy 1.26 or less",
     "output_type": "error",
     "traceback": [
      "\u001b[31m---------------------------------------------------------------------------\u001b[39m",
      "\u001b[31mImportError\u001b[39m                               Traceback (most recent call last)",
      "\u001b[36mCell\u001b[39m\u001b[36m \u001b[39m\u001b[32mIn[1]\u001b[39m\u001b[32m, line 7\u001b[39m\n\u001b[32m      5\u001b[39m \u001b[38;5;28;01mimport\u001b[39;00m\u001b[38;5;250m \u001b[39m\u001b[34;01mmlflow\u001b[39;00m\n\u001b[32m      6\u001b[39m \u001b[38;5;28;01mfrom\u001b[39;00m\u001b[38;5;250m \u001b[39m\u001b[34;01mdatetime\u001b[39;00m\u001b[38;5;250m \u001b[39m\u001b[38;5;28;01mimport\u001b[39;00m datetime, timedelta\n\u001b[32m----> \u001b[39m\u001b[32m7\u001b[39m \u001b[38;5;28;01mfrom\u001b[39;00m\u001b[38;5;250m \u001b[39m\u001b[34;01malibi_detect\u001b[39;00m\u001b[34;01m.\u001b[39;00m\u001b[34;01mcd\u001b[39;00m\u001b[38;5;250m \u001b[39m\u001b[38;5;28;01mimport\u001b[39;00m TabularDrift\n",
      "\u001b[36mFile \u001b[39m\u001b[32md:\\0Viviana\\1 FIAP\\5 fase\\datathon\\venv312\\Lib\\site-packages\\alibi_detect\\__init__.py:1\u001b[39m\n\u001b[32m----> \u001b[39m\u001b[32m1\u001b[39m \u001b[38;5;28;01mfrom\u001b[39;00m\u001b[38;5;250m \u001b[39m\u001b[34;01m.\u001b[39;00m\u001b[38;5;250m \u001b[39m\u001b[38;5;28;01mimport\u001b[39;00m ad, cd, models, od, utils, saving\n\u001b[32m      2\u001b[39m \u001b[38;5;28;01mfrom\u001b[39;00m\u001b[38;5;250m \u001b[39m\u001b[34;01m.\u001b[39;00m\u001b[34;01mversion\u001b[39;00m\u001b[38;5;250m \u001b[39m\u001b[38;5;28;01mimport\u001b[39;00m __version__  \u001b[38;5;66;03m# noqa F401\u001b[39;00m\n\u001b[32m      4\u001b[39m __all__ = [\u001b[33m\"\u001b[39m\u001b[33mad\u001b[39m\u001b[33m\"\u001b[39m, \u001b[33m\"\u001b[39m\u001b[33mcd\u001b[39m\u001b[33m\"\u001b[39m, \u001b[33m\"\u001b[39m\u001b[33mmodels\u001b[39m\u001b[33m\"\u001b[39m, \u001b[33m\"\u001b[39m\u001b[33mod\u001b[39m\u001b[33m\"\u001b[39m, \u001b[33m\"\u001b[39m\u001b[33mutils\u001b[39m\u001b[33m\"\u001b[39m, \u001b[33m\"\u001b[39m\u001b[33msaving\u001b[39m\u001b[33m\"\u001b[39m]\n",
      "\u001b[36mFile \u001b[39m\u001b[32md:\\0Viviana\\1 FIAP\\5 fase\\datathon\\venv312\\Lib\\site-packages\\alibi_detect\\cd\\__init__.py:13\u001b[39m\n\u001b[32m     11\u001b[39m \u001b[38;5;28;01mfrom\u001b[39;00m\u001b[38;5;250m \u001b[39m\u001b[34;01m.\u001b[39;00m\u001b[34;01mtabular\u001b[39;00m\u001b[38;5;250m \u001b[39m\u001b[38;5;28;01mimport\u001b[39;00m TabularDrift\n\u001b[32m     12\u001b[39m \u001b[38;5;28;01mfrom\u001b[39;00m\u001b[38;5;250m \u001b[39m\u001b[34;01m.\u001b[39;00m\u001b[34;01mcvm\u001b[39;00m\u001b[38;5;250m \u001b[39m\u001b[38;5;28;01mimport\u001b[39;00m CVMDrift\n\u001b[32m---> \u001b[39m\u001b[32m13\u001b[39m \u001b[38;5;28;01mfrom\u001b[39;00m\u001b[38;5;250m \u001b[39m\u001b[34;01m.\u001b[39;00m\u001b[34;01mcvm_online\u001b[39;00m\u001b[38;5;250m \u001b[39m\u001b[38;5;28;01mimport\u001b[39;00m CVMDriftOnline\n\u001b[32m     14\u001b[39m \u001b[38;5;28;01mfrom\u001b[39;00m\u001b[38;5;250m \u001b[39m\u001b[34;01m.\u001b[39;00m\u001b[34;01mfet\u001b[39;00m\u001b[38;5;250m \u001b[39m\u001b[38;5;28;01mimport\u001b[39;00m FETDrift\n\u001b[32m     15\u001b[39m \u001b[38;5;28;01mfrom\u001b[39;00m\u001b[38;5;250m \u001b[39m\u001b[34;01m.\u001b[39;00m\u001b[34;01mfet_online\u001b[39;00m\u001b[38;5;250m \u001b[39m\u001b[38;5;28;01mimport\u001b[39;00m FETDriftOnline\n",
      "\u001b[36mFile \u001b[39m\u001b[32md:\\0Viviana\\1 FIAP\\5 fase\\datathon\\venv312\\Lib\\site-packages\\alibi_detect\\cd\\cvm_online.py:6\u001b[39m\n\u001b[32m      4\u001b[39m \u001b[38;5;28;01mfrom\u001b[39;00m\u001b[38;5;250m \u001b[39m\u001b[34;01malibi_detect\u001b[39;00m\u001b[34;01m.\u001b[39;00m\u001b[34;01mcd\u001b[39;00m\u001b[34;01m.\u001b[39;00m\u001b[34;01mbase_online\u001b[39;00m\u001b[38;5;250m \u001b[39m\u001b[38;5;28;01mimport\u001b[39;00m BaseUniDriftOnline\n\u001b[32m      5\u001b[39m \u001b[38;5;28;01mfrom\u001b[39;00m\u001b[38;5;250m \u001b[39m\u001b[34;01malibi_detect\u001b[39;00m\u001b[34;01m.\u001b[39;00m\u001b[34;01mutils\u001b[39;00m\u001b[34;01m.\u001b[39;00m\u001b[34;01mmisc\u001b[39;00m\u001b[38;5;250m \u001b[39m\u001b[38;5;28;01mimport\u001b[39;00m quantile\n\u001b[32m----> \u001b[39m\u001b[32m6\u001b[39m \u001b[38;5;28;01mimport\u001b[39;00m\u001b[38;5;250m \u001b[39m\u001b[34;01mnumba\u001b[39;00m\u001b[38;5;250m \u001b[39m\u001b[38;5;28;01mas\u001b[39;00m\u001b[38;5;250m \u001b[39m\u001b[34;01mnb\u001b[39;00m\n\u001b[32m      7\u001b[39m \u001b[38;5;28;01mfrom\u001b[39;00m\u001b[38;5;250m \u001b[39m\u001b[34;01mtqdm\u001b[39;00m\u001b[38;5;250m \u001b[39m\u001b[38;5;28;01mimport\u001b[39;00m tqdm\n\u001b[32m      8\u001b[39m \u001b[38;5;28;01mimport\u001b[39;00m\u001b[38;5;250m \u001b[39m\u001b[34;01mwarnings\u001b[39;00m\n",
      "\u001b[36mFile \u001b[39m\u001b[32md:\\0Viviana\\1 FIAP\\5 fase\\datathon\\venv312\\Lib\\site-packages\\numba\\__init__.py:56\u001b[39m\n\u001b[32m     51\u001b[39m             msg = (\u001b[33m\"\u001b[39m\u001b[33mNumba requires SciPy version 1.0 or greater. Got SciPy \u001b[39m\u001b[33m\"\u001b[39m\n\u001b[32m     52\u001b[39m                    \u001b[33mf\u001b[39m\u001b[33m\"\u001b[39m\u001b[38;5;132;01m{\u001b[39;00mscipy.__version__\u001b[38;5;132;01m}\u001b[39;00m\u001b[33m.\u001b[39m\u001b[33m\"\u001b[39m)\n\u001b[32m     53\u001b[39m             \u001b[38;5;28;01mraise\u001b[39;00m \u001b[38;5;167;01mImportError\u001b[39;00m(msg)\n\u001b[32m---> \u001b[39m\u001b[32m56\u001b[39m \u001b[43m_ensure_critical_deps\u001b[49m\u001b[43m(\u001b[49m\u001b[43m)\u001b[49m\n\u001b[32m     57\u001b[39m \u001b[38;5;66;03m# END DO NOT MOVE\u001b[39;00m\n\u001b[32m     58\u001b[39m \u001b[38;5;66;03m# ---------------------- WARNING WARNING WARNING ----------------------------\u001b[39;00m\n\u001b[32m     61\u001b[39m \u001b[38;5;28;01mfrom\u001b[39;00m\u001b[38;5;250m \u001b[39m\u001b[34;01m.\u001b[39;00m\u001b[34;01m_version\u001b[39;00m\u001b[38;5;250m \u001b[39m\u001b[38;5;28;01mimport\u001b[39;00m get_versions\n",
      "\u001b[36mFile \u001b[39m\u001b[32md:\\0Viviana\\1 FIAP\\5 fase\\datathon\\venv312\\Lib\\site-packages\\numba\\__init__.py:42\u001b[39m, in \u001b[36m_ensure_critical_deps\u001b[39m\u001b[34m()\u001b[39m\n\u001b[32m     40\u001b[39m     \u001b[38;5;28;01mraise\u001b[39;00m \u001b[38;5;167;01mImportError\u001b[39;00m(msg)\n\u001b[32m     41\u001b[39m \u001b[38;5;28;01melif\u001b[39;00m numpy_version > (\u001b[32m1\u001b[39m, \u001b[32m26\u001b[39m):\n\u001b[32m---> \u001b[39m\u001b[32m42\u001b[39m     \u001b[38;5;28;01mraise\u001b[39;00m \u001b[38;5;167;01mImportError\u001b[39;00m(\u001b[33m\"\u001b[39m\u001b[33mNumba needs NumPy 1.26 or less\u001b[39m\u001b[33m\"\u001b[39m)\n\u001b[32m     44\u001b[39m \u001b[38;5;28;01mtry\u001b[39;00m:\n\u001b[32m     45\u001b[39m     \u001b[38;5;28;01mimport\u001b[39;00m\u001b[38;5;250m \u001b[39m\u001b[34;01mscipy\u001b[39;00m\n",
      "\u001b[31mImportError\u001b[39m: Numba needs NumPy 1.26 or less"
     ]
    }
   ],
   "source": [
    "from pathlib import Path\n",
    "import sqlite3\n",
    "import pandas as pd\n",
    "import numpy as np\n",
    "import mlflow\n",
    "from datetime import datetime, timedelta\n",
    "from alibi_detect.cd import TabularDrift"
   ]
  },
  {
   "cell_type": "code",
   "execution_count": 28,
   "id": "0869f46d",
   "metadata": {},
   "outputs": [
    {
     "name": "stdout",
     "output_type": "stream",
     "text": [
      "D:\\0Viviana\\1 FIAP\\5 fase\\datathon\\app\\data\\extraidos\\dados.db\n"
     ]
    }
   ],
   "source": [
    "DB_PATH = Path().resolve().parent.parent / \"app\" / \"data\" / \"extraidos\" / \"dados.db\"\n",
    "print(DB_PATH)"
   ]
  },
  {
   "cell_type": "code",
   "execution_count": 29,
   "id": "10a0f945",
   "metadata": {},
   "outputs": [],
   "source": [
    "# Conecta ao banco SQLite\n",
    "conn = sqlite3.connect(DB_PATH)"
   ]
  },
  {
   "cell_type": "code",
   "execution_count": 30,
   "id": "d92b4f4e",
   "metadata": {},
   "outputs": [],
   "source": [
    "# 🔍 Consulta os dados\n",
    "query = \"\"\"\n",
    "SELECT \n",
    "    infos_basicas_email,\n",
    "    informacoes_profissionais_area_atuacao,\n",
    "    cv_pt,\n",
    "    infos_basicas_data_criacao\n",
    "FROM applicants\n",
    "WHERE infos_basicas_data_criacao IS NOT NULL\n",
    "\"\"\"\n",
    "df = pd.read_sql_query(query, conn)\n",
    "conn.close()"
   ]
  },
  {
   "cell_type": "code",
   "execution_count": 31,
   "id": "353291c1",
   "metadata": {},
   "outputs": [],
   "source": [
    "# Converte a coluna de data\n",
    "df[\"infos_basicas_data_criacao\"] = pd.to_datetime(df[\"infos_basicas_data_criacao\"], errors=\"coerce\")\n",
    "df = df.dropna(subset=[\"infos_basicas_data_criacao\"])\n",
    "\n",
    "# Ordena e calcula limites\n",
    "data_min = df[\"infos_basicas_data_criacao\"].min()\n",
    "data_max = df[\"infos_basicas_data_criacao\"].max()"
   ]
  },
  {
   "cell_type": "code",
   "execution_count": 32,
   "id": "b6fd3ff1",
   "metadata": {},
   "outputs": [
    {
     "data": {
      "text/plain": [
       "(Timestamp('2024-12-02 19:53:32'), Timestamp('2012-12-03 17:21:56'))"
      ]
     },
     "execution_count": 32,
     "metadata": {},
     "output_type": "execute_result"
    }
   ],
   "source": [
    "data_max, data_min"
   ]
  },
  {
   "cell_type": "code",
   "execution_count": 33,
   "id": "3e405094",
   "metadata": {},
   "outputs": [
    {
     "name": "stdout",
     "output_type": "stream",
     "text": [
      "Intervalo: 2012-12-03 → 2024-12-02\n",
      "Limite automático definido em: 2022-07-10\n"
     ]
    }
   ],
   "source": [
    "# Define o limite como os últimos 20% do intervalo\n",
    "intervalo_total = data_max - data_min\n",
    "limite = data_max - intervalo_total * 0.2\n",
    "print(f\"Intervalo: {data_min.date()} → {data_max.date()}\")\n",
    "print(f\"Limite automático definido em: {limite.date()}\")"
   ]
  },
  {
   "cell_type": "code",
   "execution_count": 34,
   "id": "67919f13",
   "metadata": {},
   "outputs": [],
   "source": [
    "# Divide os dados\n",
    "df_ref = df[df[\"infos_basicas_data_criacao\"] < limite].drop(columns=[\"infos_basicas_data_criacao\"])\n",
    "df_cur = df[df[\"infos_basicas_data_criacao\"] >= limite].drop(columns=[\"infos_basicas_data_criacao\"])"
   ]
  },
  {
   "cell_type": "code",
   "execution_count": 10,
   "id": "7742db39",
   "metadata": {},
   "outputs": [
    {
     "data": {
      "text/html": [
       "<div>\n",
       "<style scoped>\n",
       "    .dataframe tbody tr th:only-of-type {\n",
       "        vertical-align: middle;\n",
       "    }\n",
       "\n",
       "    .dataframe tbody tr th {\n",
       "        vertical-align: top;\n",
       "    }\n",
       "\n",
       "    .dataframe thead th {\n",
       "        text-align: right;\n",
       "    }\n",
       "</style>\n",
       "<table border=\"1\" class=\"dataframe\">\n",
       "  <thead>\n",
       "    <tr style=\"text-align: right;\">\n",
       "      <th></th>\n",
       "      <th>infos_basicas_email</th>\n",
       "      <th>informacoes_profissionais_area_atuacao</th>\n",
       "      <th>cv_pt</th>\n",
       "      <th>infos_basicas_data_criacao</th>\n",
       "    </tr>\n",
       "  </thead>\n",
       "  <tbody>\n",
       "    <tr>\n",
       "      <th>0</th>\n",
       "      <td>carolina_aparecida@gmail.com</td>\n",
       "      <td></td>\n",
       "      <td>assistente administrativo\\n\\n\\nsantosbatista\\n...</td>\n",
       "      <td>2021-10-11 07:29:49</td>\n",
       "    </tr>\n",
       "    <tr>\n",
       "      <th>1</th>\n",
       "      <td>eduardo_rios@hotmail.com</td>\n",
       "      <td>Administrativa</td>\n",
       "      <td>formação acadêmica\\nensino médio (2º grau) em ...</td>\n",
       "      <td>2021-10-11 08:56:16</td>\n",
       "    </tr>\n",
       "  </tbody>\n",
       "</table>\n",
       "</div>"
      ],
      "text/plain": [
       "            infos_basicas_email informacoes_profissionais_area_atuacao  \\\n",
       "0  carolina_aparecida@gmail.com                                          \n",
       "1      eduardo_rios@hotmail.com                         Administrativa   \n",
       "\n",
       "                                               cv_pt  \\\n",
       "0  assistente administrativo\\n\\n\\nsantosbatista\\n...   \n",
       "1  formação acadêmica\\nensino médio (2º grau) em ...   \n",
       "\n",
       "  infos_basicas_data_criacao  \n",
       "0        2021-10-11 07:29:49  \n",
       "1        2021-10-11 08:56:16  "
      ]
     },
     "execution_count": 10,
     "metadata": {},
     "output_type": "execute_result"
    }
   ],
   "source": [
    "df.head(2)"
   ]
  },
  {
   "cell_type": "code",
   "execution_count": 12,
   "id": "fa5a9d5b",
   "metadata": {},
   "outputs": [
    {
     "data": {
      "text/html": [
       "<div>\n",
       "<style scoped>\n",
       "    .dataframe tbody tr th:only-of-type {\n",
       "        vertical-align: middle;\n",
       "    }\n",
       "\n",
       "    .dataframe tbody tr th {\n",
       "        vertical-align: top;\n",
       "    }\n",
       "\n",
       "    .dataframe thead th {\n",
       "        text-align: right;\n",
       "    }\n",
       "</style>\n",
       "<table border=\"1\" class=\"dataframe\">\n",
       "  <thead>\n",
       "    <tr style=\"text-align: right;\">\n",
       "      <th></th>\n",
       "      <th>infos_basicas_email</th>\n",
       "      <th>informacoes_profissionais_area_atuacao</th>\n",
       "      <th>cv_pt</th>\n",
       "    </tr>\n",
       "  </thead>\n",
       "  <tbody>\n",
       "    <tr>\n",
       "      <th>0</th>\n",
       "      <td>carolina_aparecida@gmail.com</td>\n",
       "      <td></td>\n",
       "      <td>assistente administrativo\\n\\n\\nsantosbatista\\n...</td>\n",
       "    </tr>\n",
       "    <tr>\n",
       "      <th>1</th>\n",
       "      <td>eduardo_rios@hotmail.com</td>\n",
       "      <td>Administrativa</td>\n",
       "      <td>formação acadêmica\\nensino médio (2º grau) em ...</td>\n",
       "    </tr>\n",
       "  </tbody>\n",
       "</table>\n",
       "</div>"
      ],
      "text/plain": [
       "            infos_basicas_email informacoes_profissionais_area_atuacao  \\\n",
       "0  carolina_aparecida@gmail.com                                          \n",
       "1      eduardo_rios@hotmail.com                         Administrativa   \n",
       "\n",
       "                                               cv_pt  \n",
       "0  assistente administrativo\\n\\n\\nsantosbatista\\n...  \n",
       "1  formação acadêmica\\nensino médio (2º grau) em ...  "
      ]
     },
     "execution_count": 12,
     "metadata": {},
     "output_type": "execute_result"
    }
   ],
   "source": [
    "df_ref.head(2)"
   ]
  },
  {
   "cell_type": "code",
   "execution_count": 13,
   "id": "dc1cd2a0",
   "metadata": {},
   "outputs": [
    {
     "data": {
      "text/html": [
       "<div>\n",
       "<style scoped>\n",
       "    .dataframe tbody tr th:only-of-type {\n",
       "        vertical-align: middle;\n",
       "    }\n",
       "\n",
       "    .dataframe tbody tr th {\n",
       "        vertical-align: top;\n",
       "    }\n",
       "\n",
       "    .dataframe thead th {\n",
       "        text-align: right;\n",
       "    }\n",
       "</style>\n",
       "<table border=\"1\" class=\"dataframe\">\n",
       "  <thead>\n",
       "    <tr style=\"text-align: right;\">\n",
       "      <th></th>\n",
       "      <th>infos_basicas_email</th>\n",
       "      <th>informacoes_profissionais_area_atuacao</th>\n",
       "      <th>cv_pt</th>\n",
       "    </tr>\n",
       "  </thead>\n",
       "  <tbody>\n",
       "    <tr>\n",
       "      <th>1000</th>\n",
       "      <td>juan_azevedo@gmail.com</td>\n",
       "      <td></td>\n",
       "      <td>resumo\\n- experiência profissional e vivência ...</td>\n",
       "    </tr>\n",
       "    <tr>\n",
       "      <th>1001</th>\n",
       "      <td>sr._luigi_monteiro@hotmail.com</td>\n",
       "      <td></td>\n",
       "      <td>front end senior\\n</td>\n",
       "    </tr>\n",
       "  </tbody>\n",
       "</table>\n",
       "</div>"
      ],
      "text/plain": [
       "                 infos_basicas_email informacoes_profissionais_area_atuacao  \\\n",
       "1000          juan_azevedo@gmail.com                                          \n",
       "1001  sr._luigi_monteiro@hotmail.com                                          \n",
       "\n",
       "                                                  cv_pt  \n",
       "1000  resumo\\n- experiência profissional e vivência ...  \n",
       "1001                                 front end senior\\n  "
      ]
     },
     "execution_count": 13,
     "metadata": {},
     "output_type": "execute_result"
    }
   ],
   "source": [
    "df_cur.head(2)"
   ]
  },
  {
   "cell_type": "code",
   "execution_count": 35,
   "id": "d075a445",
   "metadata": {},
   "outputs": [],
   "source": [
    "# Codifica texto como números (necessário para Alibi Detect)\n",
    "df_all = pd.concat([df_ref, df_cur])\n",
    "df_encoded = df_all.apply(lambda col: pd.factorize(col)[0])"
   ]
  },
  {
   "cell_type": "code",
   "execution_count": 36,
   "id": "50a09894",
   "metadata": {},
   "outputs": [],
   "source": [
    "# Divide novamente após codificação\n",
    "n_ref = len(df_ref)\n",
    "X_ref = df_encoded.iloc[:n_ref].to_numpy()\n",
    "X_cur = df_encoded.iloc[n_ref:].to_numpy()"
   ]
  },
  {
   "cell_type": "code",
   "execution_count": 37,
   "id": "633e785c",
   "metadata": {},
   "outputs": [],
   "source": [
    "# Detector de drift tabular\n",
    "cd = TabularDrift(x_ref=X_ref, p_val=0.05, categories_per_feature={0: None, 1: None, 2: None})\n",
    "preds = cd.predict(X_cur)\n",
    "\n",
    "# Resultados\n",
    "drift_detectado = preds['data']['is_drift']\n",
    "p_values = preds['data']['p_val']\n",
    "drift_features = [df_encoded.columns[i] for i, p in enumerate(p_values) if p < 0.05]"
   ]
  },
  {
   "cell_type": "code",
   "execution_count": 38,
   "id": "693ec422",
   "metadata": {},
   "outputs": [
    {
     "name": "stdout",
     "output_type": "stream",
     "text": [
      "d:\\0Viviana\\1 FIAP\\5 fase\\datathon\\app\\mlruns\n"
     ]
    }
   ],
   "source": [
    "BASE_DIR = Path.cwd()  # Diretório atual onde o notebook está rodando\n",
    "MLRUNS_PATH = BASE_DIR.parent / \"mlruns\"  # Sobe um nível e aponta para mlruns\n",
    "\n",
    "print(MLRUNS_PATH)"
   ]
  },
  {
   "cell_type": "code",
   "execution_count": 39,
   "id": "87bbe0ed",
   "metadata": {},
   "outputs": [],
   "source": [
    "# Define o tracking URI para MLflow\n",
    "mlflow.set_tracking_uri(f\"file:///{MLRUNS_PATH.as_posix()}\")"
   ]
  },
  {
   "cell_type": "code",
   "execution_count": 40,
   "id": "d83f35f3",
   "metadata": {},
   "outputs": [
    {
     "name": "stdout",
     "output_type": "stream",
     "text": [
      "Drift detectado: 1\n",
      "Features com drift: ['cv_pt']\n"
     ]
    }
   ],
   "source": [
    "# Log no MLflow\n",
    "hoje = datetime.today()\n",
    "timestamp = hoje.strftime(\"%Y%m%d_%H%M%S\")\n",
    "\n",
    "with mlflow.start_run(run_name=f\"Drift_Alibi_{timestamp}\"):\n",
    "    mlflow.log_param(\"drift_detectado\", drift_detectado)\n",
    "    mlflow.log_param(\"features_com_drift\", \", \".join(drift_features))\n",
    "    mlflow.log_metric(\"num_features_drift\", len(drift_features))\n",
    "\n",
    "print(f\"Drift detectado: {drift_detectado}\")\n",
    "print(f\"Features com drift: {drift_features}\")"
   ]
  }
 ],
 "metadata": {
  "kernelspec": {
   "display_name": "venv312 (3.12.3)",
   "language": "python",
   "name": "python3"
  },
  "language_info": {
   "codemirror_mode": {
    "name": "ipython",
    "version": 3
   },
   "file_extension": ".py",
   "mimetype": "text/x-python",
   "name": "python",
   "nbconvert_exporter": "python",
   "pygments_lexer": "ipython3",
   "version": "3.12.3"
  }
 },
 "nbformat": 4,
 "nbformat_minor": 5
}
