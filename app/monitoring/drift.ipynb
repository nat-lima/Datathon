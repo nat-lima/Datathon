{
 "cells": [
  {
   "cell_type": "code",
   "execution_count": 3,
   "id": "4f45b9d5",
   "metadata": {},
   "outputs": [
    {
     "ename": "ModuleNotFoundError",
     "evalue": "No module named 'alibi_detect'",
     "output_type": "error",
     "traceback": [
      "\u001b[31m---------------------------------------------------------------------------\u001b[39m",
      "\u001b[31mModuleNotFoundError\u001b[39m                       Traceback (most recent call last)",
      "\u001b[36mCell\u001b[39m\u001b[36m \u001b[39m\u001b[32mIn[3]\u001b[39m\u001b[32m, line 6\u001b[39m\n\u001b[32m      4\u001b[39m \u001b[38;5;28;01mimport\u001b[39;00m\u001b[38;5;250m \u001b[39m\u001b[34;01mmlflow\u001b[39;00m\n\u001b[32m      5\u001b[39m \u001b[38;5;28;01mfrom\u001b[39;00m\u001b[38;5;250m \u001b[39m\u001b[34;01mdatetime\u001b[39;00m\u001b[38;5;250m \u001b[39m\u001b[38;5;28;01mimport\u001b[39;00m datetime, timedelta\n\u001b[32m----> \u001b[39m\u001b[32m6\u001b[39m \u001b[38;5;28;01mfrom\u001b[39;00m\u001b[38;5;250m \u001b[39m\u001b[34;01malibi_detect\u001b[39;00m\u001b[34;01m.\u001b[39;00m\u001b[34;01mcd\u001b[39;00m\u001b[38;5;250m \u001b[39m\u001b[38;5;28;01mimport\u001b[39;00m TabularDrift\n",
      "\u001b[31mModuleNotFoundError\u001b[39m: No module named 'alibi_detect'"
     ]
    }
   ],
   "source": [
    "import sqlite3\n",
    "import pandas as pd\n",
    "import numpy as np\n",
    "import mlflow\n",
    "from datetime import datetime, timedelta\n",
    "from alibi_detect.cd import TabularDrift"
   ]
  },
  {
   "cell_type": "code",
   "execution_count": null,
   "id": "993c9479",
   "metadata": {},
   "outputs": [],
   "source": [
    "# 📅 Define período de referência (dados antigos) e análise (últimos 30 dias)\n",
    "hoje = datetime.today()\n",
    "limite = hoje - timedelta(days=30)"
   ]
  },
  {
   "cell_type": "code",
   "execution_count": null,
   "id": "d92b4f4e",
   "metadata": {},
   "outputs": [],
   "source": [
    "# 📁 Conecta ao banco SQLite\n",
    "DB_PATH = \"app/data/extraidos/dados.db\"\n",
    "conn = sqlite3.connect(DB_PATH)\n",
    "\n",
    "# 🔍 Consulta os dados\n",
    "query = \"\"\"\n",
    "SELECT \n",
    "    formacao_academica,\n",
    "    informacoes_profissionais_conhecimentos_tecnicos,\n",
    "    cv_pt,\n",
    "    data_candidatura\n",
    "FROM prospects\n",
    "WHERE data_candidatura IS NOT NULL\n",
    "\"\"\"\n",
    "df = pd.read_sql_query(query, conn)\n",
    "conn.close()"
   ]
  },
  {
   "cell_type": "code",
   "execution_count": null,
   "id": "a3edd272",
   "metadata": {},
   "outputs": [],
   "source": [
    "# 🧼 Prepara os dados\n",
    "df[\"data_candidatura\"] = pd.to_datetime(df[\"data_candidatura\"], errors=\"coerce\")\n",
    "df = df.dropna(subset=[\"data_candidatura\"])\n",
    "\n",
    "# 📊 Divide os dados\n",
    "df_ref = df[df[\"data_candidatura\"] < limite].drop(columns=[\"data_candidatura\"])\n",
    "df_cur = df[df[\"data_candidatura\"] >= limite].drop(columns=[\"data_candidatura\"])"
   ]
  },
  {
   "cell_type": "code",
   "execution_count": null,
   "id": "d075a445",
   "metadata": {},
   "outputs": [],
   "source": [
    "# 🔠 Codifica texto como números (necessário para Alibi Detect)\n",
    "df_all = pd.concat([df_ref, df_cur])\n",
    "df_encoded = df_all.apply(lambda col: pd.factorize(col)[0])"
   ]
  },
  {
   "cell_type": "code",
   "execution_count": null,
   "id": "50a09894",
   "metadata": {},
   "outputs": [],
   "source": [
    "# Divide novamente após codificação\n",
    "n_ref = len(df_ref)\n",
    "X_ref = df_encoded.iloc[:n_ref].to_numpy()\n",
    "X_cur = df_encoded.iloc[n_ref:].to_numpy()"
   ]
  },
  {
   "cell_type": "code",
   "execution_count": null,
   "id": "633e785c",
   "metadata": {},
   "outputs": [],
   "source": [
    "# 🧪 Detector de drift tabular\n",
    "cd = TabularDrift(x_ref=X_ref, p_val=0.05, categories_per_feature={0: None, 1: None, 2: None})\n",
    "preds = cd.predict(X_cur)\n",
    "\n",
    "# 📊 Resultados\n",
    "drift_detectado = preds['data']['is_drift']\n",
    "p_values = preds['data']['p_val']\n",
    "drift_features = [df_encoded.columns[i] for i, p in enumerate(p_values) if p < 0.05]"
   ]
  },
  {
   "cell_type": "code",
   "execution_count": null,
   "id": "dff9eca5",
   "metadata": {},
   "outputs": [],
   "source": [
    "# 📦 Log no MLflow\n",
    "timestamp = hoje.strftime(\"%Y%m%d_%H%M%S\")\n",
    "with mlflow.start_run(run_name=f\"Drift_Alibi_{timestamp}\"):\n",
    "    mlflow.log_param(\"drift_detectado\", drift_detectado)\n",
    "    mlflow.log_param(\"features_com_drift\", \", \".join(drift_features))\n",
    "    mlflow.log_metric(\"num_features_drift\", len(drift_features))\n",
    "\n",
    "print(f\"✅ Drift detectado: {drift_detectado}\")\n",
    "print(f\"📊 Features com drift: {drift_features}\")"
   ]
  }
 ],
 "metadata": {
  "kernelspec": {
   "display_name": "venv (3.13.1)",
   "language": "python",
   "name": "python3"
  },
  "language_info": {
   "codemirror_mode": {
    "name": "ipython",
    "version": 3
   },
   "file_extension": ".py",
   "mimetype": "text/x-python",
   "name": "python",
   "nbconvert_exporter": "python",
   "pygments_lexer": "ipython3",
   "version": "3.13.1"
  }
 },
 "nbformat": 4,
 "nbformat_minor": 5
}
