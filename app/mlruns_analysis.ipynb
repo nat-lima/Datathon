{
 "cells": [
  {
   "cell_type": "code",
   "execution_count": null,
   "id": "7276056f",
   "metadata": {},
   "outputs": [
    {
     "ename": "",
     "evalue": "",
     "output_type": "error",
     "traceback": [
      "\u001b[1;31mRunning cells with 'venv (3.13.1) (Python 3.13.1)' requires the ipykernel package.\n",
      "\u001b[1;31mInstall 'ipykernel' into the Python environment. \n",
      "\u001b[1;31mCommand: '\"d:/0Viviana/1 FIAP/5 fase/datathon/venv/Scripts/python.exe\" -m pip install ipykernel -U --force-reinstall'"
     ]
    }
   ],
   "source": [
    "import mlflow\n",
    "from mlflow.tracking import MlflowClient\n",
    "from datetime import datetime"
   ]
  },
  {
   "cell_type": "code",
   "execution_count": null,
   "id": "6d2ab648",
   "metadata": {},
   "outputs": [],
   "source": [
    "client = MlflowClient()"
   ]
  },
  {
   "cell_type": "code",
   "execution_count": null,
   "id": "c4391b48",
   "metadata": {},
   "outputs": [],
   "source": [
    "# Lista todos os experimentos\n",
    "experimentos = client.list_experiments()\n",
    "# Ordena por data de criação (mais recente primeiro)\n",
    "experimentos_ordenados = sorted(experimentos, key=lambda e: e.creation_time, reverse=True)"
   ]
  },
  {
   "cell_type": "code",
   "execution_count": null,
   "id": "fa284342",
   "metadata": {},
   "outputs": [],
   "source": [
    "print(\"\\n🧪 Experimentos mais recentes:\\n\")\n",
    "\n",
    "for exp in experimentos_ordenados[:5]:\n",
    "    print(f\"🔹 Experimento: {exp.name} (ID: {exp.experiment_id})\")\n",
    "    \n",
    "    # Busca execuções ordenadas por data de início\n",
    "    runs = client.search_runs(\n",
    "        experiment_ids=[exp.experiment_id],\n",
    "        order_by=[\"start_time DESC\"],\n",
    "        max_results=1  # pega só a mais recente de cada experimento\n",
    "    )\n",
    "\n",
    "    for run in runs:\n",
    "        start = datetime.fromtimestamp(run.info.start_time / 1000).strftime('%Y-%m-%d %H:%M:%S')\n",
    "        print(f\"  📅 Execução: {run.info.run_id} | Início: {start}\")\n",
    "        \n",
    "        print(\"  📊 Métricas:\")\n",
    "        for k, v in run.data.metrics.items():\n",
    "            print(f\"    - {k}: {v}\")\n",
    "        \n",
    "        print(\"  ⚙️ Parâmetros:\")\n",
    "        for k, v in run.data.params.items():\n",
    "            print(f\"    - {k}: {v}\")\n",
    "        \n",
    "        print(\"\")\n"
   ]
  }
 ],
 "metadata": {
  "kernelspec": {
   "display_name": "venv (3.13.1)",
   "language": "python",
   "name": "python3"
  },
  "language_info": {
   "name": "python",
   "version": "3.13.1"
  }
 },
 "nbformat": 4,
 "nbformat_minor": 5
}
