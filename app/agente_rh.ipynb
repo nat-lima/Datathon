{
 "cells": [
  {
   "cell_type": "code",
   "execution_count": 36,
   "id": "d374a8c4",
   "metadata": {},
   "outputs": [],
   "source": [
    "import sqlite3\n",
    "from pathlib import Path\n",
    "import pandas as pd\n",
    "from langchain.chat_models import ChatOpenAI\n",
    "from langchain.prompts import ChatPromptTemplate\n",
    "from langchain.chains import LLMChain\n",
    "import mlflow\n",
    "from dotenv import load_dotenv\n",
    "import os\n",
    "import ast\n",
    "import re"
   ]
  },
  {
   "cell_type": "code",
   "execution_count": null,
   "id": "434fb8a5",
   "metadata": {},
   "outputs": [],
   "source": [
    "load_dotenv()\n",
    "\n",
    "api_key = os.getenv(\"OPENAI_API_KEY\")\n"
   ]
  },
  {
   "cell_type": "code",
   "execution_count": 38,
   "id": "42dc3e40",
   "metadata": {},
   "outputs": [
    {
     "name": "stdout",
     "output_type": "stream",
     "text": [
      "d:\\0Viviana\\1 FIAP\\5 fase\\datathon\\app\\data\\extraidos\\dados.db\n"
     ]
    }
   ],
   "source": [
    "caminho_db = Path.cwd() / \"data\" / \"extraidos\" / \"dados.db\"\n",
    "print(caminho_db)"
   ]
  },
  {
   "cell_type": "code",
   "execution_count": 34,
   "id": "f0236dba",
   "metadata": {},
   "outputs": [],
   "source": [
    "def buscar_dados(nome_candidato):\n",
    "    conn = sqlite3.connect(caminho_db)\n",
    "    cursor = conn.cursor()\n",
    "\n",
    "    # Buscar candidato\n",
    "    cursor.execute(\"\"\"\n",
    "        SELECT informacoes_pessoais_nome,\n",
    "               informacoes_profissionais_area_atuacao,\n",
    "               informacoes_profissionais_conhecimentos_tecnicos,\n",
    "               informacoes_profissionais_certificacoes,\n",
    "               informacoes_profissionais_nivel_profissional,\n",
    "               informacoes_profissionais_experiencias,\n",
    "               formacao_e_idiomas_nivel_academico,\n",
    "               formacao_e_idiomas_nivel_ingles,\n",
    "               formacao_e_idiomas_nivel_espanhol,\n",
    "               infos_basicas_objetivo_profissional,\n",
    "               cargo_atual_projeto_atual,\n",
    "               cv_pt,\n",
    "               infos_basicas_codigo_profissional  \n",
    "        FROM applicants\n",
    "        WHERE informacoes_pessoais_nome = ?\n",
    "    \"\"\", (nome_candidato,))\n",
    "    candidato = cursor.fetchone()\n",
    "\n",
    "    if not candidato:\n",
    "        conn.close()\n",
    "        return None, None\n",
    "\n",
    "    codigo_vaga = candidato[-1]\n",
    "\n",
    "    # Buscar vaga\n",
    "    cursor.execute(\"\"\"\n",
    "        SELECT informacoes_basicas_titulo_vaga,\n",
    "               informacoes_basicas_objetivo_vaga,\n",
    "               perfil_vaga_competencia_tecnicas_e_comportamentais,\n",
    "               perfil_vaga_habilidades_comportamentais_necessarias\n",
    "        FROM vagas\n",
    "        WHERE codigo = ?\n",
    "    \"\"\", (codigo_vaga,))\n",
    "    vaga = cursor.fetchone()\n",
    "\n",
    "    conn.close()\n",
    "    return candidato, vaga, codigo_vaga"
   ]
  },
  {
   "cell_type": "code",
   "execution_count": 35,
   "id": "97c2635d",
   "metadata": {},
   "outputs": [
    {
     "data": {
      "text/plain": [
       "(('Carolina Aparecida',\n",
       "  '',\n",
       "  '',\n",
       "  '',\n",
       "  '',\n",
       "  None,\n",
       "  '',\n",
       "  '',\n",
       "  '',\n",
       "  '',\n",
       "  None,\n",
       "  \"assistente administrativo\\n\\n\\nsantosbatista\\nitapecerica da serra/sp\\n29 anos ▪ brasileiro ▪ casado\\nformação acadêmica\\n\\uf0b7 bacharel - ciências contábeis\\ncentro universitário ítalo brasileiro\\njul/2015 - dez/2018\\n\\uf0b7 graduação - gestão financeira\\ncentro universitário anhanguera\\njan/2013 - dez/2014\\nhabilidades\\n\\uf0b7 contas a pagar e receber\\n\\uf0b7 excel avançado\\n\\uf0b7 indicadores kpi’s\\n\\uf0b7 notas fiscais, cfop’s\\n\\uf0b7 fechamento contábil\\n\\uf0b7 emissão de boletos\\n\\uf0b7 guias\\n\\uf0b7 impostos\\n\\uf0b7 budget\\n\\uf0b7 controladoria\\n\\uf0b7 sistemas integrados:\\ntotvs;\\nfolha matic;\\nnavision\\nresumo profissional\\nprofissional com experiência nos departamentos financeiro,\\ncontábil, fiscal e controladoria jurídica. elaboração e análise de\\nindicadores kpi’s de resultado, relatórios, guias, gestão de\\npagamentos, notas fiscais, boletos, fechamento financeiro e\\ncontábil fiscal.\\nsoftwares erp protheus, folha matic, navision, elaw e sapiens,\\nexcel avançado, (kpi's, painéis de dashboard e automatização).\\nhistórico profissional\\n\\uf0b7 01/2021 – 07/2021 fcn contabilidade freight forwarder\\n\\nassistente contábil\\nconciliações contábeis, financeira, folha de pagamento,\\nfiscal, lançamentos contábeis, exportações txt, análise e\\nelaboração de relatórios, fechamento contábil, análise\\nfiscal e contabilização de folha de pagamento, sistema\\nfolha matic.\\n\\uf0b7 10/2020 – 01/2021 almeida advogados\\nassistente financeiro\\ngestão de pagamentos, baixa de boletos, relatórios gerenciais.\\n\\uf0b7 04/2019 – 06/2019 fedex brasil logistica e transporte ltda\\nassistente juridico\\nresponsável pelo fechamento mensal através das\\napurações de provisões e reclassificações contábeis,\\nelaboração de indicadores financeiros e desempenho,\\nautomatização de planilhas, análise de budget e real vs\\norçado.\\n\\uf0b7 07/2017 – 11/2018 atonanni construções e serviços ltda\\nassistente contábil / fiscal\\nlançamento de notas fiscais, apurações dos impostos (iss,\\npis, cofins, cprb, ir, csll).\\nguias de pagamentos, sped fiscais, relatórios, xml, cfop,\\nncm.\\n\\uf0b7 06/2014 – 07/2017 iss servisytem do brasil ltda\\nassistente de controladoria\\ncontas a pagar e a receber, análises contábeis e\\nfinanceiras, reembolsos, p.o’s.\\ngestão de custos, budget, real vs orçado, indicadores, kpi’s\\ne mapeamento de melhorias.\\n\\uf0b7 04/2013 – 06/2014 n & n comércio de alimentos ltda\\nassistente financeiro\\ncontas a pagar e a receber, boletos, relatórios gerenciais.\\nbaixa de notas fiscais, concilação financeira, negociações\\nde pagamentos\\n\",\n",
       "  '31000'),\n",
       " None,\n",
       " '31000')"
      ]
     },
     "execution_count": 35,
     "metadata": {},
     "output_type": "execute_result"
    }
   ],
   "source": [
    "teste = buscar_dados(\"Carolina Aparecida\")\n",
    "teste"
   ]
  },
  {
   "cell_type": "code",
   "execution_count": null,
   "id": "89262f42",
   "metadata": {},
   "outputs": [],
   "source": [
    "teste = buscar_dados(\"Carolina Aparecida\")\n",
    "teste"
   ]
  },
  {
   "cell_type": "code",
   "execution_count": 25,
   "id": "67b7c5b1",
   "metadata": {},
   "outputs": [],
   "source": [
    "# 🧠 Gerar perguntas com LangChain\n",
    "def gerar_perguntas(candidato, vaga):\n",
    "    llm = ChatOpenAI(temperature=0.7)\n",
    "\n",
    "    nome, area, tecnicos, certificacoes, nivel_prof, nivel_acad, ingles, espanhol, _ = candidato\n",
    "    titulo_vaga, objetivo_vaga, competencias_tecnicas, competencias_comportamentais = vaga\n",
    "\n",
    "    resumo = f\"\"\"\n",
    "    Nome: {nome}\n",
    "    Área de atuação: {area}\n",
    "    Conhecimentos técnicos: {tecnicos}\n",
    "    Certificações: {certificacoes}\n",
    "    Nível profissional: {nivel_prof}\n",
    "    Nível acadêmico: {nivel_acad}\n",
    "    Inglês: {ingles}, Espanhol: {espanhol}\n",
    "    \"\"\"\n",
    "\n",
    "    competencias = f\"{competencias_tecnicas}, {competencias_comportamentais}\"\n",
    "\n",
    "    prompt = ChatPromptTemplate.from_template(\"\"\"\n",
    "    Você é um agente de RH entrevistando um candidato para a vaga de \"{titulo_vaga}\".\n",
    "    Objetivo da vaga: {objetivo_vaga}\n",
    "    Perfil do candidato: {resumo}\n",
    "    Competências exigidas: {competencias}\n",
    "\n",
    "    Gere 5 perguntas para avaliar se o candidato possui as competências necessárias.\n",
    "    Seja direto e profissional.\n",
    "    \"\"\")\n",
    "\n",
    "    chain = LLMChain(llm=llm, prompt=prompt)\n",
    "\n",
    "    resposta = chain.run({\n",
    "        \"titulo_vaga\": titulo_vaga,\n",
    "        \"objetivo_vaga\": objetivo_vaga,\n",
    "        \"resumo\": resumo,\n",
    "        \"competencias\": competencias\n",
    "    })\n",
    "\n",
    "    # Log no MLflow\n",
    "    mlflow.log_param(\"candidato\", nome)\n",
    "    mlflow.log_param(\"vaga\", titulo_vaga)\n",
    "    mlflow.log_param(\"competencias\", competencias)\n",
    "    mlflow.log_text(resumo, \"resumo_candidato.txt\")\n",
    "    mlflow.log_text(resposta, \"perguntas_geradas.txt\")\n",
    "\n",
    "    return resposta\n",
    "\n"
   ]
  },
  {
   "cell_type": "code",
   "execution_count": 26,
   "id": "f1a11f3b",
   "metadata": {},
   "outputs": [],
   "source": [
    "# 🚀 Executar entrevista\n",
    "def entrevista(nome_candidato):\n",
    "    with mlflow.start_run(run_name=f\"Entrevista_{nome_candidato}\"):\n",
    "        candidato, vaga = buscar_dados(nome_candidato)\n",
    "        if not candidato or not vaga:\n",
    "            print(\"Candidato ou vaga não encontrados.\")\n",
    "            return\n",
    "\n",
    "        perguntas = gerar_perguntas(candidato, vaga)\n",
    "        print(f\"\\n📋 Perguntas para entrevista com {nome_candidato}:\\n\")\n",
    "        print(perguntas)"
   ]
  },
  {
   "cell_type": "code",
   "execution_count": 27,
   "id": "6ae174ed",
   "metadata": {},
   "outputs": [
    {
     "name": "stdout",
     "output_type": "stream",
     "text": [
      "Candidato ou vaga não encontrados.\n"
     ]
    }
   ],
   "source": [
    "# 🧪 Exemplo de uso\n",
    "entrevista(\"Carolina Aparecida\")\n"
   ]
  }
 ],
 "metadata": {
  "kernelspec": {
   "display_name": "venv (3.13.1)",
   "language": "python",
   "name": "python3"
  },
  "language_info": {
   "codemirror_mode": {
    "name": "ipython",
    "version": 3
   },
   "file_extension": ".py",
   "mimetype": "text/x-python",
   "name": "python",
   "nbconvert_exporter": "python",
   "pygments_lexer": "ipython3",
   "version": "3.13.1"
  }
 },
 "nbformat": 4,
 "nbformat_minor": 5
}
